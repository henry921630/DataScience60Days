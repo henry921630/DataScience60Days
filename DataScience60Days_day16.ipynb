{
  "nbformat": 4,
  "nbformat_minor": 0,
  "metadata": {
    "colab": {
      "name": "DataScience60Days_day16.ipynb",
      "provenance": [],
      "collapsed_sections": [],
      "include_colab_link": true
    },
    "kernelspec": {
      "name": "python3",
      "display_name": "Python 3"
    }
  },
  "cells": [
    {
      "cell_type": "markdown",
      "metadata": {
        "id": "view-in-github",
        "colab_type": "text"
      },
      "source": [
        "<a href=\"https://colab.research.google.com/github/henry921630/DataScience60Days/blob/main/DataScience60Days_day16.ipynb\" target=\"_parent\"><img src=\"https://colab.research.google.com/assets/colab-badge.svg\" alt=\"Open In Colab\"/></a>"
      ]
    },
    {
      "cell_type": "markdown",
      "metadata": {
        "id": "b0CqLhJh2s7b"
      },
      "source": [
        "作業目標:<br>\r\n",
        "1. 熟悉時間序列資料運算\r\n",
        "2. 敘述統計量應用在時間序列資料上\r\n",
        "\r\n"
      ]
    },
    {
      "cell_type": "markdown",
      "metadata": {
        "id": "RVN7uazcbsex"
      },
      "source": [
        "作業重點:<br>\r\n",
        "1. 須注意時間的間隔問題，例如:一周、一年...\r\n",
        "2. 敘述統計量一樣可以應用在時間序列資料上"
      ]
    },
    {
      "cell_type": "markdown",
      "metadata": {
        "id": "xiYCa02a2vRm"
      },
      "source": [
        "題目 : 運下列時間序列資料做運算<br>\r\n",
        "\r\n",
        "\r\n",
        "```\r\n",
        "index = pd.date_range(\"1/1/2019\", periods=20, freq='D')\r\n",
        "series = pd.Series(range(20), index=index)\r\n",
        "```\r\n",
        "\r\n",
        "\r\n",
        "1. 將所有轉為周資料\r\n",
        "2. 將周資料的值取平均"
      ]
    },
    {
      "cell_type": "code",
      "metadata": {
        "colab": {
          "base_uri": "https://localhost:8080/"
        },
        "id": "1MMZgjdd2un2",
        "outputId": "07210c73-18ce-4e30-85c9-5dc16816a7d6"
      },
      "source": [
        "import numpy as np\r\n",
        "import pandas as pd\r\n",
        "index = pd.date_range('1/1/2019', periods=20, freq='D')\r\n",
        "series = pd.Series(range(20), index=index)\r\n",
        "series"
      ],
      "execution_count": 2,
      "outputs": [
        {
          "output_type": "execute_result",
          "data": {
            "text/plain": [
              "2019-01-01     0\n",
              "2019-01-02     1\n",
              "2019-01-03     2\n",
              "2019-01-04     3\n",
              "2019-01-05     4\n",
              "2019-01-06     5\n",
              "2019-01-07     6\n",
              "2019-01-08     7\n",
              "2019-01-09     8\n",
              "2019-01-10     9\n",
              "2019-01-11    10\n",
              "2019-01-12    11\n",
              "2019-01-13    12\n",
              "2019-01-14    13\n",
              "2019-01-15    14\n",
              "2019-01-16    15\n",
              "2019-01-17    16\n",
              "2019-01-18    17\n",
              "2019-01-19    18\n",
              "2019-01-20    19\n",
              "Freq: D, dtype: int64"
            ]
          },
          "metadata": {
            "tags": []
          },
          "execution_count": 2
        }
      ]
    },
    {
      "cell_type": "code",
      "metadata": {
        "id": "tSR16Mk06ciP"
      },
      "source": [
        "#1. 將所有轉為周資料"
      ],
      "execution_count": null,
      "outputs": []
    },
    {
      "cell_type": "code",
      "metadata": {
        "id": "9hQbh1yU5ZRf"
      },
      "source": [
        "#2. 將周資料的值取平均"
      ],
      "execution_count": null,
      "outputs": []
    },
    {
      "cell_type": "code",
      "metadata": {
        "id": "wGFAn8bhcUK6",
        "colab": {
          "base_uri": "https://localhost:8080/"
        },
        "outputId": "5dccef47-2587-4708-db89-dd5f1c2da389"
      },
      "source": [
        "series.to_period(freq=\"W\").mean()"
      ],
      "execution_count": 5,
      "outputs": [
        {
          "output_type": "execute_result",
          "data": {
            "text/plain": [
              "9.5"
            ]
          },
          "metadata": {
            "tags": []
          },
          "execution_count": 5
        }
      ]
    }
  ]
}