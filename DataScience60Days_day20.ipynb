{
  "nbformat": 4,
  "nbformat_minor": 0,
  "metadata": {
    "colab": {
      "name": "DataScience60Days_day20.ipynb",
      "provenance": [],
      "collapsed_sections": [],
      "include_colab_link": true
    },
    "kernelspec": {
      "display_name": "Python 3",
      "language": "python",
      "name": "python3"
    },
    "language_info": {
      "codemirror_mode": {
        "name": "ipython",
        "version": 3
      },
      "file_extension": ".py",
      "mimetype": "text/x-python",
      "name": "python",
      "nbconvert_exporter": "python",
      "pygments_lexer": "ipython3",
      "version": "3.8.3"
    }
  },
  "cells": [
    {
      "cell_type": "markdown",
      "metadata": {
        "id": "view-in-github",
        "colab_type": "text"
      },
      "source": [
        "<a href=\"https://colab.research.google.com/github/henry921630/DataScience60Days/blob/main/DataScience60Days_day20.ipynb\" target=\"_parent\"><img src=\"https://colab.research.google.com/assets/colab-badge.svg\" alt=\"Open In Colab\"/></a>"
      ]
    },
    {
      "cell_type": "markdown",
      "metadata": {
        "id": "2X0xWGxdzgeg"
      },
      "source": [
        "**主要目標:**\n",
        "    作業目標(1): 繪製模型殘差 圖型\n",
        "\n",
        "    更改初始值設定\n",
        "溫馨叮嚀: 不熟悉使用沒關係, 提出來, 有專家陪跑"
      ]
    },
    {
      "cell_type": "markdown",
      "metadata": {
        "id": "hQS6nhFj3DmX"
      },
      "source": [
        "# Seaborn圖樣式\n",
        "有五種預設seaborn主題：darkgrid，whitegrid，dark，white，和ticks。它們各自適合不同的應用和個人喜好。默認主題是darkgrid"
      ]
    },
    {
      "cell_type": "code",
      "metadata": {
        "colab": {
          "base_uri": "https://localhost:8080/",
          "height": 35
        },
        "id": "xSdq9M6N3DmY",
        "outputId": "3278c346-8f15-40e2-eb92-17aeb9058bfb"
      },
      "source": [
        "import numpy as np\n",
        "import seaborn as sns\n",
        "\n",
        "#設定圖形樣式 - whitegrid\n",
        "# use sns.set\n",
        "\n",
        "# 利用 NUMPY 去建立資料集\n",
        "# np.random.RandomState 設定數學式\n",
        "'''\n",
        "x = rs.normal(2, 1, 75)\n",
        "y = 2 + 1.5 * x + rs.normal(0, 2, 75)\n",
        "'''\n",
        "\n",
        "# 畫圖\n",
        "# sns.residplot(x, y, lowess=True, color=\"g\")"
      ],
      "execution_count": 1,
      "outputs": [
        {
          "output_type": "execute_result",
          "data": {
            "application/vnd.google.colaboratory.intrinsic+json": {
              "type": "string"
            },
            "text/plain": [
              "'\\nx = rs.normal(2, 1, 75)\\ny = 2 + 1.5 * x + rs.normal(0, 2, 75)\\n'"
            ]
          },
          "metadata": {
            "tags": []
          },
          "execution_count": 1
        }
      ]
    },
    {
      "cell_type": "code",
      "metadata": {
        "colab": {
          "base_uri": "https://localhost:8080/",
          "height": 265
        },
        "id": "HPkJOincnrVd",
        "outputId": "cb691d8e-0568-414c-b093-84dadffa55fb"
      },
      "source": [
        "sns.set_style(\"whitegrid\") # 設定圖形樣式\r\n",
        "\r\n",
        "\r\n",
        "\r\n",
        "#設定圖示的高與寬\r\n",
        "\r\n",
        "data = np.random.normal(size=(20, 6)) + np.arange(6) / 2\r\n",
        "sns.boxplot(data=data); "
      ],
      "execution_count": 13,
      "outputs": [
        {
          "output_type": "display_data",
          "data": {
            "image/png": "[encoded data removed]",
            "text/plain": [
              "<Figure size 432x288 with 1 Axes>"
            ]
          },
          "metadata": {
            "tags": []
          }
        }
      ]
    },
    {
      "cell_type": "code",
      "metadata": {
        "colab": {
          "base_uri": "https://localhost:8080/"
        },
        "id": "G5OUdAzgn3XI",
        "outputId": "e5db9370-7362-457d-aaa2-a1f2e36d13f3"
      },
      "source": [
        "print(data)\r\n",
        "print(data "
      ],
      "execution_count": 10,
      "outputs": [
        {
          "output_type": "stream",
          "text": [
            "[[ 0.2549411   1.06759151 -0.83053471 -0.59709196 -1.41577899  0.91444062]\n",
            " [ 1.28155507 -0.37902453 -1.21068901 -1.91063593 -2.26077243  0.62222287]\n",
            " [ 0.98346696  2.12629493  0.14600212 -2.39111365  0.56902937 -0.27958679]\n",
            " [ 0.31279475 -0.34367707  0.20552035 -1.41776967  0.05742404  0.9384567 ]\n",
            " [ 0.85008215 -1.249559    1.17433487 -0.26226349 -0.77349009  0.14618905]\n",
            " [-0.55930332  0.87945188  1.63198053 -0.89174618 -1.73940464  0.03472487]\n",
            " [ 0.4689498   0.70158219  0.41653342  1.59437772  2.00683593  0.20685726]\n",
            " [-0.04200351  0.24230409 -0.08490088 -1.30446146  1.37631943 -1.18772685]\n",
            " [-1.19061747  1.0303306   0.6690929  -0.09111756  1.08429157 -0.76235247]\n",
            " [ 0.41528228 -1.75192324 -1.18422806  1.03032975  1.19716299  1.38245812]\n",
            " [-0.05971088 -0.11193692 -1.89969208 -1.62556949 -0.19935559  1.94902079]\n",
            " [-0.01141879  0.47666859  0.17590883  0.88377554 -0.29156289 -0.60528073]\n",
            " [ 0.76993716  0.73376355  0.41116608 -0.76351742 -2.45822659 -1.16835473]\n",
            " [-0.15599516  0.15503239  0.20685513  1.50821207 -0.47832548 -0.46398361]\n",
            " [-0.06185114  0.8476007   0.94703786 -0.19619787  0.40946145  1.28635115]\n",
            " [-1.5617818   0.25270089 -0.39339224  0.79293031 -0.1522624   0.81963485]\n",
            " [ 1.63845055  0.42228245 -0.17922835 -0.65634027 -0.13656543 -0.4218919 ]\n",
            " [-0.55387325 -0.74718303 -0.09417486 -1.1400877   0.73107848 -1.2430646 ]\n",
            " [ 0.07763541  0.11108671 -0.49088495 -0.04140806 -0.8859715   0.86912233]\n",
            " [ 0.79571124 -2.03061933 -0.64928446  1.825204   -0.23014056 -0.98582749]]\n",
            "[[ 0.2549411   1.56759151  0.16946529  0.90290804  0.58422101  3.41444062]\n",
            " [ 1.28155507  0.12097547 -0.21068901 -0.41063593 -0.26077243  3.12222287]\n",
            " [ 0.98346696  2.62629493  1.14600212 -0.89111365  2.56902937  2.22041321]\n",
            " [ 0.31279475  0.15632293  1.20552035  0.08223033  2.05742404  3.4384567 ]\n",
            " [ 0.85008215 -0.749559    2.17433487  1.23773651  1.22650991  2.64618905]\n",
            " [-0.55930332  1.37945188  2.63198053  0.60825382  0.26059536  2.53472487]\n",
            " [ 0.4689498   1.20158219  1.41653342  3.09437772  4.00683593  2.70685726]\n",
            " [-0.04200351  0.74230409  0.91509912  0.19553854  3.37631943  1.31227315]\n",
            " [-1.19061747  1.5303306   1.6690929   1.40888244  3.08429157  1.73764753]\n",
            " [ 0.41528228 -1.25192324 -0.18422806  2.53032975  3.19716299  3.88245812]\n",
            " [-0.05971088  0.38806308 -0.89969208 -0.12556949  1.80064441  4.44902079]\n",
            " [-0.01141879  0.97666859  1.17590883  2.38377554  1.70843711  1.89471927]\n",
            " [ 0.76993716  1.23376355  1.41116608  0.73648258 -0.45822659  1.33164527]\n",
            " [-0.15599516  0.65503239  1.20685513  3.00821207  1.52167452  2.03601639]\n",
            " [-0.06185114  1.3476007   1.94703786  1.30380213  2.40946145  3.78635115]\n",
            " [-1.5617818   0.75270089  0.60660776  2.29293031  1.8477376   3.31963485]\n",
            " [ 1.63845055  0.92228245  0.82077165  0.84365973  1.86343457  2.0781081 ]\n",
            " [-0.55387325 -0.24718303  0.90582514  0.3599123   2.73107848  1.2569354 ]\n",
            " [ 0.07763541  0.61108671  0.50911505  1.45859194  1.1140285   3.36912233]\n",
            " [ 0.79571124 -1.53061933  0.35071554  3.325204    1.76985944  1.51417251]]\n"
          ],
          "name": "stdout"
        }
      ]
    },
    {
      "cell_type": "markdown",
      "metadata": {
        "id": "gj86RGc6k0fV"
      },
      "source": [
        "作業目標(2)\n",
        "(1)使用 distplot()使用簡單的規則來正確猜測預設情況下正確的數位,但嘗試更多或更少的 bin 可能會顯示資料中的其他特徵:\n",
        "(2)有無kde對圖形分布的影響"
      ]
    },
    {
      "cell_type": "code",
      "metadata": {
        "colab": {
          "base_uri": "https://localhost:8080/",
          "height": 268
        },
        "id": "DunieTjAk3Ly",
        "outputId": "f857c268-3e0d-4aa2-db01-8bf87de71cf8"
      },
      "source": [
        "# bin: 指的是特徵值, \n",
        "# kde: on/off\n",
        "# sns.distplot();\n",
        "# sns.distplot(x, bins=, kde=, rug=);"
      ],
      "execution_count": null,
      "outputs": [
        {
          "output_type": "display_data",
          "data": {
            "image/png": "[encoded data removed]",
            "text/plain": [
              "<Figure size 432x288 with 1 Axes>"
            ]
          },
          "metadata": {
            "tags": [],
            "needs_background": "light"
          }
        }
      ]
    }
  ]
}