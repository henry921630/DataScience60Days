{
  "nbformat": 4,
  "nbformat_minor": 0,
  "metadata": {
    "colab": {
      "name": "DataScience60Days_day7.ipynb",
      "provenance": [],
      "collapsed_sections": [],
      "authorship_tag": "ABX9TyObD5fHStXge+d6qmAGI+NE",
      "include_colab_link": true
    },
    "kernelspec": {
      "name": "python3",
      "display_name": "Python 3"
    }
  },
  "cells": [
    {
      "cell_type": "markdown",
      "metadata": {
        "id": "view-in-github",
        "colab_type": "text"
      },
      "source": [
        "<a href=\"https://colab.research.google.com/github/henry921630/DataScience60Days/blob/main/DataScience60Days_day7.ipynb\" target=\"_parent\"><img src=\"https://colab.research.google.com/assets/colab-badge.svg\" alt=\"Open In Colab\"/></a>"
      ]
    },
    {
      "cell_type": "code",
      "metadata": {
        "id": "0XTZD2L_RaE5"
      },
      "source": [
        "# 作業目標\r\n",
        "# 活用矩陣運算，實做線性代數\r\n",
        "# 作業重點\r\n",
        "# 線性代數公式應用\r\n",
        "# 矩陣相乘維度需要對好，例如:2X3矩陣乘上3X5矩陣得到2X5矩陣\r\n",
        "\r\n",
        "# 題目:\r\n",
        "# array1 = np.array([[10, 8], [3, 5]])\r\n",
        "\r\n",
        "# 運用上列array計算反矩陣，乘上原矩陣，並觀察是否為單位矩陣?\r\n",
        "# 運用上列array計算特徵值、特徵向量?\r\n",
        "# 運用上列array計算SVD?"
      ],
      "execution_count": 1,
      "outputs": []
    },
    {
      "cell_type": "code",
      "metadata": {
        "colab": {
          "base_uri": "https://localhost:8080/"
        },
        "id": "iYuPvwN3RqtS",
        "outputId": "e62f7283-5152-44b5-9518-dcaf561d0d8a"
      },
      "source": [
        "import numpy as np\r\n",
        "\r\n",
        "#1. 運用上列array計算反矩陣，乘上原矩陣，並觀察是否為單位矩陣?\r\n",
        "array1 = np.array([[10, 8], [3, 5]])\r\n",
        "arr1_inv = np.linalg.inv(array1)\r\n",
        "np.dot(array1, arr1_inv)"
      ],
      "execution_count": 7,
      "outputs": [
        {
          "output_type": "execute_result",
          "data": {
            "text/plain": [
              "array([[1., 0.],\n",
              "       [0., 1.]])"
            ]
          },
          "metadata": {
            "tags": []
          },
          "execution_count": 7
        }
      ]
    },
    {
      "cell_type": "code",
      "metadata": {
        "colab": {
          "base_uri": "https://localhost:8080/"
        },
        "id": "RTIl2a4mRzLl",
        "outputId": "3777bda6-889a-4d79-abc6-f55c4e10d017"
      },
      "source": [
        "#2. 運用上列array計算特徵值、特徵向量?\r\n",
        "w, v = np.linalg.eig(array1)\r\n",
        "print(w,v)\r\n"
      ],
      "execution_count": 8,
      "outputs": [
        {
          "output_type": "stream",
          "text": [
            "[13.  2.] [[ 0.93632918 -0.70710678]\n",
            " [ 0.35112344  0.70710678]]\n"
          ],
          "name": "stdout"
        }
      ]
    },
    {
      "cell_type": "code",
      "metadata": {
        "colab": {
          "base_uri": "https://localhost:8080/"
        },
        "id": "4kB_5JziRz4U",
        "outputId": "76a06711-6229-475d-97bb-2a4cc804e657"
      },
      "source": [
        "#3. 運用上列array計算SVD?\r\n",
        "u, s, vh = np.linalg.svd(array1)\r\n",
        "print(u,s,vh)"
      ],
      "execution_count": 9,
      "outputs": [
        {
          "output_type": "stream",
          "text": [
            "[[-0.91663818 -0.39971796]\n",
            " [-0.39971796  0.91663818]] [13.94721714  1.86417116] [[-0.74319741 -0.6690722 ]\n",
            " [-0.6690722   0.74319741]]\n"
          ],
          "name": "stdout"
        }
      ]
    }
  ]
}