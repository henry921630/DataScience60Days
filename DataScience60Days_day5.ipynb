{
  "nbformat": 4,
  "nbformat_minor": 0,
  "metadata": {
    "colab": {
      "name": "DataScience60Days_day5.ipynb",
      "provenance": [],
      "collapsed_sections": [],
      "authorship_tag": "ABX9TyNTrkCBKhJE6pIV4+KV0WBB",
      "include_colab_link": true
    },
    "kernelspec": {
      "name": "python3",
      "display_name": "Python 3"
    }
  },
  "cells": [
    {
      "cell_type": "markdown",
      "metadata": {
        "id": "view-in-github",
        "colab_type": "text"
      },
      "source": [
        "<a href=\"https://colab.research.google.com/github/henry921630/DataScience60Days/blob/main/DataScience60Days_day5.ipynb\" target=\"_parent\"><img src=\"https://colab.research.google.com/assets/colab-badge.svg\" alt=\"Open In Colab\"/></a>"
      ]
    },
    {
      "cell_type": "code",
      "metadata": {
        "id": "yLJAyxvJyAgj"
      },
      "source": [
        "# 題目:\r\n",
        "# english_score = np.array([55,89,76,65,48,70])\r\n",
        "# math_score = np.array([60,85,60,68,np.nan,60])\r\n",
        "# chinese_score = np.array([65,90,82,72,66,77])\r\n",
        "# 上3列共六位同學的英文、數學、國文成績，第一個元素代表第一位同學，舉例第一位同學英文55分、數學60分、國文65分，今天第五位同學因某原因沒來考試，導致數學成績缺值，運用上列數據回答下列問題。\r\n",
        "\r\n",
        "# 請計算各科成績平均、最大值、最小值、標準差，其中數學缺一筆資料可忽略?\r\n",
        "# 第五位同學補考數學後成績為55，請計算補考後數學成績平均、最大值、最小值、標準差?\r\n",
        "# 用補考後資料找出與國文成績相關係數最高的學科?"
      ],
      "execution_count": 42,
      "outputs": []
    },
    {
      "cell_type": "code",
      "metadata": {
        "id": "ujaBy0ciyoW9"
      },
      "source": [
        "import numpy as np"
      ],
      "execution_count": 43,
      "outputs": []
    },
    {
      "cell_type": "code",
      "metadata": {
        "id": "Iy7rSPmMyu38"
      },
      "source": [
        "english_score = np.array([55,89,76,65,48,70])\r\n",
        "math_score = np.array([60,85,60,68,np.nan,60])\r\n",
        "chinese_score = np.array([65,90,82,72,66,77])"
      ],
      "execution_count": 44,
      "outputs": []
    },
    {
      "cell_type": "code",
      "metadata": {
        "colab": {
          "base_uri": "https://localhost:8080/"
        },
        "id": "2us__rZTyrsk",
        "outputId": "38f9a8eb-538c-40ef-c02f-636c802fc884"
      },
      "source": [
        "#1. 請計算各科成績平均、最大值、最小值、標準差，其中數學缺一筆資料可忽略?\r\n",
        "all_subject_score = np.array([english_score, math_score, chinese_score])\r\n",
        "print(\r\n",
        "np.nanmean(all_subject_score, axis=1),\r\n",
        "np.nanmax(all_subject_score, axis =1),\r\n",
        "np.nanmin(all_subject_score, axis =1),\r\n",
        "np.nanstd(all_subject_score, axis =1),\r\n",
        "sep= '\\n')"
      ],
      "execution_count": 45,
      "outputs": [
        {
          "output_type": "stream",
          "text": [
            "[67.16666667 66.6        75.33333333]\n",
            "[89. 85. 90.]\n",
            "[48. 60. 65.]\n",
            "[13.43399502  9.70772888  8.8254682 ]\n"
          ],
          "name": "stdout"
        }
      ]
    },
    {
      "cell_type": "code",
      "metadata": {
        "colab": {
          "base_uri": "https://localhost:8080/"
        },
        "id": "CUTZj1Fmzr0x",
        "outputId": "23579406-392a-40c8-d1c3-b7d30deabad5"
      },
      "source": [
        "#2. 第五位同學補考數學後成績為55，請計算補考後數學成績平均、最大值、最小值、標準差?\r\n",
        "all_subject_score_after =all_subject_score.copy()\r\n",
        "all_subject_score_after[1][4]= 55\r\n",
        "print(\r\n",
        "np.nanmean(all_subject_score_after, axis=1),\r\n",
        "np.nanmax(all_subject_score_after, axis =1),\r\n",
        "np.nanmin(all_subject_score_after, axis =1),\r\n",
        "np.nanstd(all_subject_score_after, axis =1),\r\n",
        "sep= '\\n')"
      ],
      "execution_count": 48,
      "outputs": [
        {
          "output_type": "stream",
          "text": [
            "[67.16666667 64.66666667 75.33333333]\n",
            "[89. 85. 90.]\n",
            "[48. 55. 65.]\n",
            "[13.43399502  9.86013297  8.8254682 ]\n"
          ],
          "name": "stdout"
        }
      ]
    },
    {
      "cell_type": "code",
      "metadata": {
        "colab": {
          "base_uri": "https://localhost:8080/"
        },
        "id": "zPPj4-7o3Ws2",
        "outputId": "65a41a48-a5ee-4baf-8135-2625c8314660"
      },
      "source": [
        "#3. 用補考後資料找出與國文成績相關係數最高的學科?\r\n",
        "np.corrcoef(all_subject_score_after)"
      ],
      "execution_count": 49,
      "outputs": [
        {
          "output_type": "execute_result",
          "data": {
            "text/plain": [
              "array([[1.        , 0.7855563 , 0.97792828],\n",
              "       [0.7855563 , 1.        , 0.74056803],\n",
              "       [0.97792828, 0.74056803, 1.        ]])"
            ]
          },
          "metadata": {
            "tags": []
          },
          "execution_count": 49
        }
      ]
    }
  ]
}