{
  "nbformat": 4,
  "nbformat_minor": 0,
  "metadata": {
    "colab": {
      "name": "DataScience60Days_day6.ipynb",
      "provenance": [],
      "collapsed_sections": [],
      "authorship_tag": "ABX9TyNY2Epac+BdGHDIKzJAfchW",
      "include_colab_link": true
    },
    "kernelspec": {
      "name": "python3",
      "display_name": "Python 3"
    }
  },
  "cells": [
    {
      "cell_type": "markdown",
      "metadata": {
        "id": "view-in-github",
        "colab_type": "text"
      },
      "source": [
        "<a href=\"https://colab.research.google.com/github/henry921630/DataScience60Days/blob/main/DataScience60Days_day6.ipynb\" target=\"_parent\"><img src=\"https://colab.research.google.com/assets/colab-badge.svg\" alt=\"Open In Colab\"/></a>"
      ]
    },
    {
      "cell_type": "code",
      "metadata": {
        "id": "Sj8bqb1HLMiO"
      },
      "source": [
        "# 作業目標\r\n",
        "# 讀取存取陣列資料\r\n",
        "# 作業重點\r\n",
        "# 多陣列存一起需要存成npz，讀取須注意npz中有多個陣列\r\n",
        "\r\n",
        "# 題目:\r\n",
        "\r\n",
        "# 將下兩列array存成npz檔\r\n",
        "# array1 = np.array(range(30))\r\n",
        "# array2 = np.array([2,3,5])\r\n",
        "# 讀取剛剛的npz檔，加入下列array一起存成新的npz檔"
      ],
      "execution_count": 25,
      "outputs": []
    },
    {
      "cell_type": "code",
      "metadata": {
        "id": "L3M2bA1aLoeP"
      },
      "source": [
        "import numpy as np"
      ],
      "execution_count": 26,
      "outputs": []
    },
    {
      "cell_type": "code",
      "metadata": {
        "id": "DnZ_OmF6Liuk"
      },
      "source": [
        "#. 將下兩列array存成npz檔\r\n",
        "array1 = np.array(range(30))\r\n",
        "array2 = np.array([2,3,5])\r\n",
        "\r\n",
        "with open('two_array.npz', 'wb') as f:\r\n",
        "    np.savez(f, array1=array1, array2=array2)\r\n"
      ],
      "execution_count": 27,
      "outputs": []
    },
    {
      "cell_type": "code",
      "metadata": {
        "colab": {
          "base_uri": "https://localhost:8080/"
        },
        "id": "hQ3JDENpMChY",
        "outputId": "b42a71ec-ab2f-4142-bd26-53b08045a009"
      },
      "source": [
        "#2. 讀取剛剛的npz檔，加入下列array一起存成新的npz檔\r\n",
        "with open('two_array.npz', 'rb') as f:\r\n",
        "    a = np.load(f)\r\n",
        "    for x in a.files:\r\n",
        "      print(a[x])"
      ],
      "execution_count": 31,
      "outputs": [
        {
          "output_type": "stream",
          "text": [
            "[ 0  1  2  3  4  5  6  7  8  9 10 11 12 13 14 15 16 17 18 19 20 21 22 23\n",
            " 24 25 26 27 28 29]\n",
            "[2 3 5]\n"
          ],
          "name": "stdout"
        }
      ]
    }
  ]
}