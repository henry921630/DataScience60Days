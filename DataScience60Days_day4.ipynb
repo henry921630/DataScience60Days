{
  "nbformat": 4,
  "nbformat_minor": 0,
  "metadata": {
    "colab": {
      "name": "DataScience60Days_day4.ipynb",
      "provenance": [],
      "collapsed_sections": [],
      "authorship_tag": "ABX9TyOFSnlL9PN/RR8jJIldo5vd",
      "include_colab_link": true
    },
    "kernelspec": {
      "name": "python3",
      "display_name": "Python 3"
    }
  },
  "cells": [
    {
      "cell_type": "markdown",
      "metadata": {
        "id": "view-in-github",
        "colab_type": "text"
      },
      "source": [
        "<a href=\"https://colab.research.google.com/github/henry921630/DataScience60Days/blob/main/DataScience60Days_day4.ipynb\" target=\"_parent\"><img src=\"https://colab.research.google.com/assets/colab-badge.svg\" alt=\"Open In Colab\"/></a>"
      ]
    },
    {
      "cell_type": "code",
      "metadata": {
        "id": "J8ksslLbKzp9"
      },
      "source": [
        "# 題目:\r\n",
        "english_score = np.array([55,89,76,65,48,70])\r\n",
        "math_score = np.array([60,85,60,68,55,60])\r\n",
        "chinese_score = np.array([65,90,82,72,66,77])\r\n",
        "# 上3列共六位同學的英文、數學、國文成績，第一個元素代表第一位同學，舉例第一位同學英文55分、數學60分、國文65分，運用上列數據回答下列問題。\r\n",
        "\r\n",
        "# 有多少學生英文成績比數學成績高?\r\n",
        "# 是否全班同學最高分都是國文?\r\n"
      ],
      "execution_count": 5,
      "outputs": []
    },
    {
      "cell_type": "code",
      "metadata": {
        "id": "qsvXmewXK6N1"
      },
      "source": [
        "import numpy as np"
      ],
      "execution_count": 2,
      "outputs": []
    },
    {
      "cell_type": "code",
      "metadata": {
        "colab": {
          "base_uri": "https://localhost:8080/"
        },
        "id": "0aim71tnK9OU",
        "outputId": "1868343a-778d-4f22-86bf-0fa1e7865b3c"
      },
      "source": [
        "#1.有多少學生英文成績比數學成績高?\r\n",
        "np.count_nonzero(np.greater_equal(english_score, math_score))"
      ],
      "execution_count": 7,
      "outputs": [
        {
          "output_type": "execute_result",
          "data": {
            "text/plain": [
              "3"
            ]
          },
          "metadata": {
            "tags": []
          },
          "execution_count": 7
        }
      ]
    },
    {
      "cell_type": "code",
      "metadata": {
        "colab": {
          "base_uri": "https://localhost:8080/"
        },
        "id": "xuxVFKroK-cU",
        "outputId": "9a777aa0-98a6-4410-c439-ff4e639096a3"
      },
      "source": [
        "#2.是否全班同學最高分都是國文?\r\n",
        "np.all(np.array(chinese_score - math_score>0) * np.array(chinese_score - english_score>0))"
      ],
      "execution_count": 14,
      "outputs": [
        {
          "output_type": "execute_result",
          "data": {
            "text/plain": [
              "True"
            ]
          },
          "metadata": {
            "tags": []
          },
          "execution_count": 14
        }
      ]
    }
  ]
}