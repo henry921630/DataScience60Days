{
  "nbformat": 4,
  "nbformat_minor": 0,
  "metadata": {
    "colab": {
      "name": "DataScience60Days_day8.ipynb",
      "provenance": [],
      "collapsed_sections": [],
      "authorship_tag": "ABX9TyMqy348OaXZYGrEw4+ZGbzs",
      "include_colab_link": true
    },
    "kernelspec": {
      "name": "python3",
      "display_name": "Python 3"
    }
  },
  "cells": [
    {
      "cell_type": "markdown",
      "metadata": {
        "id": "view-in-github",
        "colab_type": "text"
      },
      "source": [
        "<a href=\"https://colab.research.google.com/github/henry921630/DataScience60Days/blob/main/DataScience60Days_day8.ipynb\" target=\"_parent\"><img src=\"https://colab.research.google.com/assets/colab-badge.svg\" alt=\"Open In Colab\"/></a>"
      ]
    },
    {
      "cell_type": "code",
      "metadata": {
        "id": "1qAcS4-vUmQX"
      },
      "source": [
        "# 作業目標\r\n",
        "# 在一個陣列中放入多屬性陣列，進一步對陣列做運算\r\n",
        "# 作業重點\r\n",
        "# 在建立結構化陣列前需要先設定屬性，在做運算時須注意資料屬性\r\n",
        "\r\n",
        "# 題目:\r\n",
        "# name_list = ['小明','小華','小菁','小美','小張','John','Mark','Tom']\r\n",
        "# sex_list = ['boy','boy','girl','girl','boy','boy','boy','boy']\r\n",
        "# weight_list = [67.5,75.3,50.1,45.5,80.8,90.4,78.4,70.7]\r\n",
        "# rank_list = [8,1,5,4,7,6,2,3]\r\n",
        "# myopia_list = [True,True,False,False,True,True,False,False]\r\n",
        "\r\n",
        "# 將上列list依照['name', 'sex', 'weight', 'rank', 'myopia']順序擺入array，並且資料型態順序擺入[Unicode,Unicode,float,int,boolean]\r\n",
        "# 呈上題，將array中體重(weight)數據集取出算出全部平均體重\r\n",
        "# 呈上題，進一步算出男生(sex欄位是boy)平均體重、女生(sex欄位是girl)平均體重"
      ],
      "execution_count": 1,
      "outputs": []
    },
    {
      "cell_type": "code",
      "metadata": {
        "id": "rx4EPBMVUx89"
      },
      "source": [
        "import numpy as np "
      ],
      "execution_count": 2,
      "outputs": []
    },
    {
      "cell_type": "code",
      "metadata": {
        "id": "wSxan7zHUy2m"
      },
      "source": [
        "name_list = ['小明','小華','小菁','小美','小張','John','Mark','Tom']\r\n",
        "sex_list = ['boy','boy','girl','girl','boy','boy','boy','boy']\r\n",
        "weight_list = [67.5,75.3,50.1,45.5,80.8,90.4,78.4,70.7]\r\n",
        "rank_list = [8,1,5,4,7,6,2,3]\r\n",
        "myopia_list = [True,True,False,False,True,True,False,False]"
      ],
      "execution_count": 21,
      "outputs": []
    },
    {
      "cell_type": "code",
      "metadata": {
        "id": "2o77sp87UzR0"
      },
      "source": [
        "#1. 將上列list依照['name', 'sex', 'weight', 'rank', 'myopia']順序擺入array，並且資料型態順序擺入[Unicode,Unicode,float,int,boolean]\r\n",
        "dt = np.dtype({'names':('name', 'sex', 'weight', 'rank', 'myopia'), 'formats':((np.str_, 5), (np.str_, 5), np.float32, int, np.bool_)})\r\n",
        "c = np.zeros(8, dtype=dt)\r\n"
      ],
      "execution_count": 27,
      "outputs": []
    },
    {
      "cell_type": "code",
      "metadata": {
        "id": "lpo3SOeCVDvg"
      },
      "source": [
        "c['name'] = name_list\r\n",
        "c['sex'] = sex_list\r\n",
        "c['weight'] = weight_list\r\n",
        "c['rank'] = rank_list\r\n",
        "c['myopia'] = myopia_list"
      ],
      "execution_count": 29,
      "outputs": []
    },
    {
      "cell_type": "code",
      "metadata": {
        "colab": {
          "base_uri": "https://localhost:8080/"
        },
        "id": "SrVJcG1dXgC9",
        "outputId": "d95e3829-69b3-4049-b8fd-a4a0bea1d84f"
      },
      "source": [
        "c"
      ],
      "execution_count": 30,
      "outputs": [
        {
          "output_type": "execute_result",
          "data": {
            "text/plain": [
              "array([('小明', 'boy', 67.5, 8,  True), ('小華', 'boy', 75.3, 1,  True),\n",
              "       ('小菁', 'girl', 50.1, 5, False), ('小美', 'girl', 45.5, 4, False),\n",
              "       ('小張', 'boy', 80.8, 7,  True), ('John', 'boy', 90.4, 6,  True),\n",
              "       ('Mark', 'boy', 78.4, 2, False), ('Tom', 'boy', 70.7, 3, False)],\n",
              "      dtype=[('name', '<U5'), ('sex', '<U5'), ('weight', '<f4'), ('rank', '<i8'), ('myopia', '?')])"
            ]
          },
          "metadata": {
            "tags": []
          },
          "execution_count": 30
        }
      ]
    },
    {
      "cell_type": "code",
      "metadata": {
        "colab": {
          "base_uri": "https://localhost:8080/"
        },
        "id": "QSWa8vO5Uzyl",
        "outputId": "9f6a78a4-c948-4450-cbb3-649def440cfd"
      },
      "source": [
        "#2. 呈上題，將array中體重(weight)數據集取出算出全部平均體重\r\n",
        "np.average(c['weight'])"
      ],
      "execution_count": 33,
      "outputs": [
        {
          "output_type": "execute_result",
          "data": {
            "text/plain": [
              "69.8375"
            ]
          },
          "metadata": {
            "tags": []
          },
          "execution_count": 33
        }
      ]
    },
    {
      "cell_type": "code",
      "metadata": {
        "id": "YuR6XlvhU0O8"
      },
      "source": [
        "#3. 呈上題，進一步算出男生(sex欄位是boy)平均體重"
      ],
      "execution_count": 6,
      "outputs": []
    },
    {
      "cell_type": "code",
      "metadata": {
        "colab": {
          "base_uri": "https://localhost:8080/"
        },
        "id": "m6CUOGWIU1kp",
        "outputId": "3ebfed79-fbc6-4bb2-a1d9-aa94813f3e23"
      },
      "source": [
        "np.average(c[c['sex'] == 'boy']['weight'])\r\n"
      ],
      "execution_count": 41,
      "outputs": [
        {
          "output_type": "execute_result",
          "data": {
            "text/plain": [
              "77.18333"
            ]
          },
          "metadata": {
            "tags": []
          },
          "execution_count": 41
        }
      ]
    }
  ]
}