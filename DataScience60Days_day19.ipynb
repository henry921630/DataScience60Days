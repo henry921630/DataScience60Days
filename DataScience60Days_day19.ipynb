{
  "nbformat": 4,
  "nbformat_minor": 0,
  "metadata": {
    "kernelspec": {
      "display_name": "Python 3",
      "language": "python",
      "name": "python3"
    },
    "language_info": {
      "codemirror_mode": {
        "name": "ipython",
        "version": 3
      },
      "file_extension": ".py",
      "mimetype": "text/x-python",
      "name": "python",
      "nbconvert_exporter": "python",
      "pygments_lexer": "ipython3",
      "version": "3.7.6"
    },
    "colab": {
      "name": "DataScience60Days_day19.ipynb",
      "provenance": [],
      "collapsed_sections": [],
      "include_colab_link": true
    }
  },
  "cells": [
    {
      "cell_type": "markdown",
      "metadata": {
        "id": "view-in-github",
        "colab_type": "text"
      },
      "source": [
        "<a href=\"https://colab.research.google.com/github/henry921630/DataScience60Days/blob/main/DataScience60Days_day19.ipynb\" target=\"_parent\"><img src=\"https://colab.research.google.com/assets/colab-badge.svg\" alt=\"Open In Colab\"/></a>"
      ]
    },
    {
      "cell_type": "markdown",
      "metadata": {
        "id": "O-YfjN4WJ_SE"
      },
      "source": [
        "# 教學目標 \n",
        "\n",
        "主要說明matplotlib 的基礎操作\n",
        "\n",
        "1. 使用常見的子圖與軸圖來做畫面配置\n",
        "\n",
        "2. 長條圖\n",
        "\n",
        "# 範例重點\n",
        "\n",
        "如何使用亂數, 資料集來操作\n"
      ]
    },
    {
      "cell_type": "markdown",
      "metadata": {
        "id": "9vBZOrx9J_SN"
      },
      "source": [
        "# 軸圖進階\n",
        "\n",
        "但是可以將圖放置在圖中的任何位置。因此，如果要在較大的圖中放置較小的圖，則可以使用軸。\n",
        "\n",
        "#特別提醒: tick 刻度線定位器\n",
        "\n",
        "格式正確的刻度線是準備發布的數據的重要組成部分。Matplotlib為滴答提供了一個完全可配置的系統。有刻度線定位器可以指定刻度線應出現的位置，刻度線格式化程序可以為刻度線提供所需的外觀。主刻度線和次刻度線可以相互獨立地定位和格式化。\n",
        "\n",
        "# 問題: 繪製如下圖示:\n",
        "\n",
        "![image.png](attachment:image.png) "
      ]
    },
    {
      "cell_type": "code",
      "metadata": {
        "id": "9RiHsXzdJ_SO",
        "colab": {
          "base_uri": "https://localhost:8080/",
          "height": 265
        },
        "outputId": "d614d2f1-d4eb-4d6d-97a4-165e0ba0a99e"
      },
      "source": [
        "\n",
        "import matplotlib.pyplot as plt\n",
        "\n",
        "#決定底框\n",
        "plt.axes([0.1,0.1,.5,.5])\n",
        "#給定刻度\n",
        "plt.xticks([]), plt.yticks([])\n",
        "plt.text(0.1,0.1, 'axes([0.1,0.1,.5,.5])',ha='left',va='center',size=16,alpha=.5)\n",
        "\n",
        "\n",
        "#決定第二層框\n",
        "plt.axes([0.2,0.2,.5,.5])\n",
        "plt.xticks([]), plt.yticks([])\n",
        "plt.text(0.1,0.1, 'axes([0.2,0.2,.5,.5])',ha='left',va='center',size=16,alpha=.5)\n",
        "\n",
        "\n",
        "#決定第三層框\n",
        "plt.axes([0.3,0.3,.5,.5])\n",
        "plt.xticks([]), plt.yticks([])\n",
        "plt.text(0.1,0.1, 'axes([0.3,0.3,.5,.5])',ha='left',va='center',size=16,alpha=.5)\n",
        "#決定第四層框\n",
        "plt.axes([0.4,0.4,.5,.5])\n",
        "plt.xticks([]), plt.yticks([])\n",
        "plt.text(0.1,0.1, 'axes([0.4,0.4,.5,.5])',ha='left',va='center',size=16,alpha=.5)\n",
        "\n",
        "plt.show()"
      ],
      "execution_count": 12,
      "outputs": [
        {
          "output_type": "display_data",
          "data": {
            "image/png": "[encoded data removed]",
            "text/plain": [
              "<Figure size 432x288 with 4 Axes>"
            ]
          },
          "metadata": {
            "tags": []
          }
        }
      ]
    },
    {
      "cell_type": "markdown",
      "metadata": {
        "id": "vZcTI6VMJ_SQ"
      },
      "source": [
        "# 條型圖: Bar Plots\n",
        "    \n",
        "長條圖主要用來呈現兩個維度的資料，一個為X軸另一個則為Y軸(當然這邊指的是二維的狀況，較為常見)\n",
        "\n",
        "主要用來呈現兩個維度的資料\n",
        "\n",
        "# 問題: 嘗試通過添加紅色條形標籤重現右側的圖形。"
      ]
    },
    {
      "cell_type": "code",
      "metadata": {
        "id": "MCRYCu7jJ_SQ",
        "colab": {
          "base_uri": "https://localhost:8080/",
          "height": 265
        },
        "outputId": "0a05cf34-fbb2-4b53-d7fd-6639f87eebba"
      },
      "source": [
        "import numpy as np\n",
        "import matplotlib.pyplot as plt\n",
        "\n",
        " #配置12 組 Bar\n",
        "n = 12 \n",
        "X = np.arange(n)\n",
        "\n",
        " #給定數學運算式\n",
        "Y1 = (1-X/float(n)) * np.random.uniform(0.5,1.0,n)\n",
        "Y2 = (1-X/float(n)) * np.random.uniform(0.5,1.0,n)\n",
        "\n",
        "#指定上半部繪製區域, 給定 Bar 顏色, 邊界顏色\n",
        "plt.bar(X, +Y1, facecolor='#9999ff', edgecolor='white')\n",
        "# +Y 指的是 XY 四象限的第一象限\n",
        "plt.bar(X, -Y2, facecolor='#ff9999', edgecolor='white')\n",
        "'''\n",
        "#指定上半部繪製區域, 給定 Bar 顏色, 邊界顏色\n",
        "'''\n",
        "\n",
        " #設定繪圖圖示區間\n",
        "for x,y in zip(X,Y1):\n",
        "    plt.text(x+0.4, y+0.05, '%.2f' % y, ha='center', va= 'bottom')\n",
        "\n",
        " #設定Y軸區間\n",
        "plt.ylim(-1.25,+1.25)\n",
        "plt.show()"
      ],
      "execution_count": 15,
      "outputs": [
        {
          "output_type": "display_data",
          "data": {
            "image/png": "[encoded data removed]",
            "text/plain": [
              "<Figure size 432x288 with 1 Axes>"
            ]
          },
          "metadata": {
            "tags": [],
            "needs_background": "light"
          }
        }
      ]
    },
    {
      "cell_type": "code",
      "metadata": {
        "id": "YvD2FcAdJ_SR"
      },
      "source": [
        ""
      ],
      "execution_count": null,
      "outputs": []
    }
  ]
}