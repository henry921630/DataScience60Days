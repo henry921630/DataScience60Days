{
  "nbformat": 4,
  "nbformat_minor": 0,
  "metadata": {
    "colab": {
      "name": "DataScience60Days_day13.ipynb",
      "provenance": [],
      "collapsed_sections": [],
      "include_colab_link": true
    },
    "kernelspec": {
      "name": "python3",
      "display_name": "Python 3"
    }
  },
  "cells": [
    {
      "cell_type": "markdown",
      "metadata": {
        "id": "view-in-github",
        "colab_type": "text"
      },
      "source": [
        "<a href=\"https://colab.research.google.com/github/henry921630/DataScience60Days/blob/main/DataScience60Days_day13.ipynb\" target=\"_parent\"><img src=\"https://colab.research.google.com/assets/colab-badge.svg\" alt=\"Open In Colab\"/></a>"
      ]
    },
    {
      "cell_type": "markdown",
      "metadata": {
        "id": "QSGBlxpAWNEz"
      },
      "source": [
        "作業目標:<br>\r\n",
        "1. 敘述統計量計算<br>\r\n",
        "2. 運用自定義函數apply"
      ]
    },
    {
      "cell_type": "markdown",
      "metadata": {
        "id": "1Pl9tfEoWow-"
      },
      "source": [
        "作業重點:<br>\r\n",
        "1. 了解敘述統計量並解釋<br>\r\n",
        "2. 運用apply時須注意自定義函數寫法"
      ]
    },
    {
      "cell_type": "markdown",
      "metadata": {
        "id": "vKZoLUflW-A2"
      },
      "source": [
        "題目<br>\n",
        "對以下成績資料做分析<br>\n",
        "1. 6號學生(student_id=6)3科平均分數為何?<br>\n",
        "2. 6號學生3科平均分數是否有贏過班上一半的同學?<br>\n",
        "3. 由於班上同學成績不好，所以學校統一加分，加分方式為開根號乘以十，請問6號同學3科成績分別是?<br>\n",
        "4. 承上題，加分後各科班平均變多少?\n",
        "<br>\n",
        "score_df = pd.DataFrame([[1,56,66,70], \n",
        "              [2,90,45,34],\n",
        "              [3,45,32,55],\n",
        "              [4,70,77,89],\n",
        "              [5,56,80,70],\n",
        "              [6,60,54,55],\n",
        "              [7,45,70,79],\n",
        "              [8,34,77,76],\n",
        "              [9,25,87,60],\n",
        "              [10,88,40,43]],columns=['student_id','math_score','english_score','chinese_score'])"
      ]
    },
    {
      "cell_type": "code",
      "metadata": {
        "colab": {
          "base_uri": "https://localhost:8080/",
          "height": 390
        },
        "id": "cQGrCL4-YxE6",
        "outputId": "78d3e488-7f56-4b3d-ca7d-1b72bb4ce150"
      },
      "source": [
        "import pandas as pd\n",
        "score_df = pd.DataFrame([[1,56,66,70], \n",
        "              [2,90,45,34],\n",
        "              [3,45,32,55],\n",
        "              [4,70,77,89],\n",
        "              [5,56,80,70],\n",
        "              [6,60,54,55],\n",
        "              [7,45,70,79],\n",
        "              [8,34,77,76],\n",
        "              [9,25,87,60],\n",
        "              [10,88,40,43]],columns=['student_id','math_score','english_score','chinese_score'])\n",
        "score_df = score_df.set_index('student_id')\n",
        "score_df"
      ],
      "execution_count": 1,
      "outputs": [
        {
          "output_type": "execute_result",
          "data": {
            "text/html": [
              "<div>\n",
              "<style scoped>\n",
              "    .dataframe tbody tr th:only-of-type {\n",
              "        vertical-align: middle;\n",
              "    }\n",
              "\n",
              "    .dataframe tbody tr th {\n",
              "        vertical-align: top;\n",
              "    }\n",
              "\n",
              "    .dataframe thead th {\n",
              "        text-align: right;\n",
              "    }\n",
              "</style>\n",
              "<table border=\"1\" class=\"dataframe\">\n",
              "  <thead>\n",
              "    <tr style=\"text-align: right;\">\n",
              "      <th></th>\n",
              "      <th>math_score</th>\n",
              "      <th>english_score</th>\n",
              "      <th>chinese_score</th>\n",
              "    </tr>\n",
              "    <tr>\n",
              "      <th>student_id</th>\n",
              "      <th></th>\n",
              "      <th></th>\n",
              "      <th></th>\n",
              "    </tr>\n",
              "  </thead>\n",
              "  <tbody>\n",
              "    <tr>\n",
              "      <th>1</th>\n",
              "      <td>56</td>\n",
              "      <td>66</td>\n",
              "      <td>70</td>\n",
              "    </tr>\n",
              "    <tr>\n",
              "      <th>2</th>\n",
              "      <td>90</td>\n",
              "      <td>45</td>\n",
              "      <td>34</td>\n",
              "    </tr>\n",
              "    <tr>\n",
              "      <th>3</th>\n",
              "      <td>45</td>\n",
              "      <td>32</td>\n",
              "      <td>55</td>\n",
              "    </tr>\n",
              "    <tr>\n",
              "      <th>4</th>\n",
              "      <td>70</td>\n",
              "      <td>77</td>\n",
              "      <td>89</td>\n",
              "    </tr>\n",
              "    <tr>\n",
              "      <th>5</th>\n",
              "      <td>56</td>\n",
              "      <td>80</td>\n",
              "      <td>70</td>\n",
              "    </tr>\n",
              "    <tr>\n",
              "      <th>6</th>\n",
              "      <td>60</td>\n",
              "      <td>54</td>\n",
              "      <td>55</td>\n",
              "    </tr>\n",
              "    <tr>\n",
              "      <th>7</th>\n",
              "      <td>45</td>\n",
              "      <td>70</td>\n",
              "      <td>79</td>\n",
              "    </tr>\n",
              "    <tr>\n",
              "      <th>8</th>\n",
              "      <td>34</td>\n",
              "      <td>77</td>\n",
              "      <td>76</td>\n",
              "    </tr>\n",
              "    <tr>\n",
              "      <th>9</th>\n",
              "      <td>25</td>\n",
              "      <td>87</td>\n",
              "      <td>60</td>\n",
              "    </tr>\n",
              "    <tr>\n",
              "      <th>10</th>\n",
              "      <td>88</td>\n",
              "      <td>40</td>\n",
              "      <td>43</td>\n",
              "    </tr>\n",
              "  </tbody>\n",
              "</table>\n",
              "</div>"
            ],
            "text/plain": [
              "            math_score  english_score  chinese_score\n",
              "student_id                                          \n",
              "1                   56             66             70\n",
              "2                   90             45             34\n",
              "3                   45             32             55\n",
              "4                   70             77             89\n",
              "5                   56             80             70\n",
              "6                   60             54             55\n",
              "7                   45             70             79\n",
              "8                   34             77             76\n",
              "9                   25             87             60\n",
              "10                  88             40             43"
            ]
          },
          "metadata": {
            "tags": []
          },
          "execution_count": 1
        }
      ]
    },
    {
      "cell_type": "code",
      "metadata": {
        "id": "qNfiH_CnY3Us",
        "colab": {
          "base_uri": "https://localhost:8080/"
        },
        "outputId": "f3498851-7dd9-404a-fb1d-56f075519cda"
      },
      "source": [
        "#1.6號學生(student_id=6)3科平均分數為何?\r\n",
        "score_df.mean(axis=1)"
      ],
      "execution_count": 4,
      "outputs": [
        {
          "output_type": "execute_result",
          "data": {
            "text/plain": [
              "student_id\n",
              "1     64.000000\n",
              "2     56.333333\n",
              "3     44.000000\n",
              "4     78.666667\n",
              "5     68.666667\n",
              "6     56.333333\n",
              "7     64.666667\n",
              "8     62.333333\n",
              "9     57.333333\n",
              "10    57.000000\n",
              "dtype: float64"
            ]
          },
          "metadata": {
            "tags": []
          },
          "execution_count": 4
        }
      ]
    },
    {
      "cell_type": "code",
      "metadata": {
        "id": "O-TfIm7oaAao",
        "colab": {
          "base_uri": "https://localhost:8080/"
        },
        "outputId": "4250ea53-b0a5-4139-d682-3adc58589a67"
      },
      "source": [
        "#2. 6號學生3科平均分數是否有贏過班上一半的同學\r\n",
        "score_df.mean(axis=1).median()"
      ],
      "execution_count": 7,
      "outputs": [
        {
          "output_type": "execute_result",
          "data": {
            "text/plain": [
              "59.833333333333336"
            ]
          },
          "metadata": {
            "tags": []
          },
          "execution_count": 7
        }
      ]
    },
    {
      "cell_type": "code",
      "metadata": {
        "id": "QNA0WHCIapPB",
        "colab": {
          "base_uri": "https://localhost:8080/",
          "height": 390
        },
        "outputId": "5dfd49c9-c418-404f-a791-6c059e8adbd1"
      },
      "source": [
        "#由於班上同學成績不好，所以學校統一加分，加分方式為開根號乘以十，請問6號同學3科成績分別是?\r\n",
        "score_df.apply(lambda x : x**(0.5)*10)"
      ],
      "execution_count": 8,
      "outputs": [
        {
          "output_type": "execute_result",
          "data": {
            "text/html": [
              "<div>\n",
              "<style scoped>\n",
              "    .dataframe tbody tr th:only-of-type {\n",
              "        vertical-align: middle;\n",
              "    }\n",
              "\n",
              "    .dataframe tbody tr th {\n",
              "        vertical-align: top;\n",
              "    }\n",
              "\n",
              "    .dataframe thead th {\n",
              "        text-align: right;\n",
              "    }\n",
              "</style>\n",
              "<table border=\"1\" class=\"dataframe\">\n",
              "  <thead>\n",
              "    <tr style=\"text-align: right;\">\n",
              "      <th></th>\n",
              "      <th>math_score</th>\n",
              "      <th>english_score</th>\n",
              "      <th>chinese_score</th>\n",
              "    </tr>\n",
              "    <tr>\n",
              "      <th>student_id</th>\n",
              "      <th></th>\n",
              "      <th></th>\n",
              "      <th></th>\n",
              "    </tr>\n",
              "  </thead>\n",
              "  <tbody>\n",
              "    <tr>\n",
              "      <th>1</th>\n",
              "      <td>74.833148</td>\n",
              "      <td>81.240384</td>\n",
              "      <td>83.666003</td>\n",
              "    </tr>\n",
              "    <tr>\n",
              "      <th>2</th>\n",
              "      <td>94.868330</td>\n",
              "      <td>67.082039</td>\n",
              "      <td>58.309519</td>\n",
              "    </tr>\n",
              "    <tr>\n",
              "      <th>3</th>\n",
              "      <td>67.082039</td>\n",
              "      <td>56.568542</td>\n",
              "      <td>74.161985</td>\n",
              "    </tr>\n",
              "    <tr>\n",
              "      <th>4</th>\n",
              "      <td>83.666003</td>\n",
              "      <td>87.749644</td>\n",
              "      <td>94.339811</td>\n",
              "    </tr>\n",
              "    <tr>\n",
              "      <th>5</th>\n",
              "      <td>74.833148</td>\n",
              "      <td>89.442719</td>\n",
              "      <td>83.666003</td>\n",
              "    </tr>\n",
              "    <tr>\n",
              "      <th>6</th>\n",
              "      <td>77.459667</td>\n",
              "      <td>73.484692</td>\n",
              "      <td>74.161985</td>\n",
              "    </tr>\n",
              "    <tr>\n",
              "      <th>7</th>\n",
              "      <td>67.082039</td>\n",
              "      <td>83.666003</td>\n",
              "      <td>88.881944</td>\n",
              "    </tr>\n",
              "    <tr>\n",
              "      <th>8</th>\n",
              "      <td>58.309519</td>\n",
              "      <td>87.749644</td>\n",
              "      <td>87.177979</td>\n",
              "    </tr>\n",
              "    <tr>\n",
              "      <th>9</th>\n",
              "      <td>50.000000</td>\n",
              "      <td>93.273791</td>\n",
              "      <td>77.459667</td>\n",
              "    </tr>\n",
              "    <tr>\n",
              "      <th>10</th>\n",
              "      <td>93.808315</td>\n",
              "      <td>63.245553</td>\n",
              "      <td>65.574385</td>\n",
              "    </tr>\n",
              "  </tbody>\n",
              "</table>\n",
              "</div>"
            ],
            "text/plain": [
              "            math_score  english_score  chinese_score\n",
              "student_id                                          \n",
              "1            74.833148      81.240384      83.666003\n",
              "2            94.868330      67.082039      58.309519\n",
              "3            67.082039      56.568542      74.161985\n",
              "4            83.666003      87.749644      94.339811\n",
              "5            74.833148      89.442719      83.666003\n",
              "6            77.459667      73.484692      74.161985\n",
              "7            67.082039      83.666003      88.881944\n",
              "8            58.309519      87.749644      87.177979\n",
              "9            50.000000      93.273791      77.459667\n",
              "10           93.808315      63.245553      65.574385"
            ]
          },
          "metadata": {
            "tags": []
          },
          "execution_count": 8
        }
      ]
    },
    {
      "cell_type": "code",
      "metadata": {
        "id": "BG_bdbRFa6X4"
      },
      "source": [
        "#承上題，加分後各科班平均變多少"
      ],
      "execution_count": null,
      "outputs": []
    },
    {
      "cell_type": "code",
      "metadata": {
        "id": "2ZtRukpObNZx",
        "colab": {
          "base_uri": "https://localhost:8080/"
        },
        "outputId": "b26eb552-33aa-43d4-eb96-3f72c4dfa135"
      },
      "source": [
        "score_df.apply(lambda x : x**(0.5)*10).mean(axis=0)"
      ],
      "execution_count": 10,
      "outputs": [
        {
          "output_type": "execute_result",
          "data": {
            "text/plain": [
              "math_score       74.194221\n",
              "english_score    78.350301\n",
              "chinese_score    78.739928\n",
              "dtype: float64"
            ]
          },
          "metadata": {
            "tags": []
          },
          "execution_count": 10
        }
      ]
    }
  ]
}